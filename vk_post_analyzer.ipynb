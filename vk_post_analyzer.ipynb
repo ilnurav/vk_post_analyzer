{
  "nbformat": 4,
  "nbformat_minor": 0,
  "metadata": {
    "colab": {
      "provenance": []
    },
    "kernelspec": {
      "name": "python3",
      "display_name": "Python 3"
    },
    "language_info": {
      "name": "python"
    }
  },
  "cells": [
    {
      "cell_type": "markdown",
      "source": [
        "# Сбор данных со страницы VK с помощью API"
      ],
      "metadata": {
        "id": "uIAGLmg9D0Tq"
      }
    },
    {
      "cell_type": "code",
      "source": [
        "# Задаем версию API ВКонтакте\n",
        "version = '5.199'\n",
        "\n",
        "# Читаем токен доступа из файла\n",
        "with open('token.txt') as f:\n",
        "    token = f.read()\n",
        "\n",
        "# Читаем идентификатор пользователя из файла\n",
        "with open('id_user.txt') as f:\n",
        "    id_user = f.read()"
      ],
      "metadata": {
        "id": "HjijwqxK86Zo"
      },
      "execution_count": 12,
      "outputs": []
    },
    {
      "cell_type": "code",
      "execution_count": 13,
      "metadata": {
        "id": "PJV4C4q_midZ"
      },
      "outputs": [],
      "source": [
        "# Импортируем необходимые библиотеки\n",
        "import datetime\n",
        "import sqlite3\n",
        "import requests\n",
        "import pandas as pd"
      ]
    },
    {
      "cell_type": "code",
      "source": [
        "# Определяем метод API для получения информации о пользователе\n",
        "method = 'users.get'\n",
        "parameters = f'user_ids={id_user}'\n",
        "\n",
        "# Формируем URL для запроса к API\n",
        "url = f'https://api.vk.com/method/{method}?{parameters}&v={version}&access_token={token}'"
      ],
      "metadata": {
        "id": "HgwzzWBs9Bop"
      },
      "execution_count": 15,
      "outputs": []
    },
    {
      "cell_type": "code",
      "source": [
        "# Выполняем запрос и получаем ответ\n",
        "response = requests.get(url)"
      ],
      "metadata": {
        "id": "vV-UqSWt9E-o"
      },
      "execution_count": 16,
      "outputs": []
    },
    {
      "cell_type": "code",
      "source": [
        "# Определяем метод API для получения постов пользователя\n",
        "method = 'wall.get'\n",
        "parameters = f'owner_id={id_user}'  # ID пользователя как владельца стены\n",
        "count = 100  # Количество постов для запроса\n",
        "\n",
        "# Формируем URL для запроса к API\n",
        "url = f'https://api.vk.com/method/{method}?{parameters}&v={version}&count={count}&access_token={token}'\n",
        "\n",
        "# Выполняем запрос и получаем ответ\n",
        "response = requests.get(url)"
      ],
      "metadata": {
        "id": "IHntMvQ8IY9c"
      },
      "execution_count": 18,
      "outputs": []
    },
    {
      "cell_type": "code",
      "source": [
        "# Инициализируем список для хранения данных постов\n",
        "data = []\n",
        "for item in response.json()['response']['items']:\n",
        "    post_id = item['id']  # Получаем ID поста\n",
        "    post_time = datetime.datetime.fromtimestamp(item['date'])  # Конвертируем время поста\n",
        "    likes = item['likes']['count']  # Получаем количество лайков\n",
        "\n",
        "    # Определяем время суток поста\n",
        "    if 6 <= post_time.hour < 12:\n",
        "        time_of_day = 'morning'  # Утро\n",
        "    elif 12 <= post_time.hour < 18:\n",
        "        time_of_day = 'afternoon'  # День\n",
        "    elif 18 <= post_time.hour < 24:\n",
        "        time_of_day = 'evening'  # Вечер\n",
        "    else:\n",
        "        time_of_day = 'night'  # Ночь\n",
        "\n",
        "    # Определяем день недели\n",
        "    day_of_week = post_time.strftime('%a')  # Получаем сокращенное название дня\n",
        "    # Переводим сокращенное название дня на английский\n",
        "    day_of_week = {\n",
        "        'Mon': 'Monday',\n",
        "        'Tue': 'Tuesday',\n",
        "        'Wed': 'Wednesday',\n",
        "        'Thu': 'Thursday',\n",
        "        'Fri': 'Friday',\n",
        "        'Sat': 'Saturday',\n",
        "        'Sun': 'Sunday'\n",
        "    }[day_of_week]\n",
        "\n",
        "    # Добавляем данные поста в список\n",
        "    data.append({\n",
        "        'id_post': post_id,\n",
        "        'date_time': post_time,\n",
        "        'likes': likes,\n",
        "        'times_of_day': time_of_day,\n",
        "        'day_of_the_week': day_of_week\n",
        "    })\n",
        "\n",
        "# Создаем DataFrame из собранных данных\n",
        "df = pd.DataFrame(data)\n",
        "\n",
        "# Печатаем содержимое DataFrame\n",
        "print(df)"
      ],
      "metadata": {
        "colab": {
          "base_uri": "https://localhost:8080/"
        },
        "id": "08Sk_lk5eMC5",
        "outputId": "549f9f10-811a-4a00-f85c-e3e0f7cc0b0c"
      },
      "execution_count": 19,
      "outputs": [
        {
          "output_type": "stream",
          "name": "stdout",
          "text": [
            "    id_post           date_time  likes times_of_day day_of_the_week\n",
            "0      3024 2023-12-08 11:12:46     72      morning          Friday\n",
            "1      3557 2024-10-07 14:34:07     55    afternoon          Monday\n",
            "2      3554 2024-10-06 13:56:20      2    afternoon          Sunday\n",
            "3      3553 2024-10-05 15:14:33     20    afternoon        Saturday\n",
            "4      3548 2024-10-04 04:15:10     32        night          Friday\n",
            "..      ...                 ...    ...          ...             ...\n",
            "95     2945 2023-10-22 07:02:19    204      morning          Sunday\n",
            "96     2944 2023-10-06 10:18:16      9      morning          Friday\n",
            "97     2939 2023-09-22 12:40:47     55    afternoon          Friday\n",
            "98     2935 2023-09-21 08:22:08     49      morning        Thursday\n",
            "99     2921 2023-09-12 13:47:07    114    afternoon         Tuesday\n",
            "\n",
            "[100 rows x 5 columns]\n"
          ]
        }
      ]
    },
    {
      "cell_type": "markdown",
      "source": [
        "# Сохранение данных в csv файл"
      ],
      "metadata": {
        "id": "a-ZFyM5YFa5x"
      }
    },
    {
      "cell_type": "code",
      "source": [
        "# Сохраняем в CSV файл\n",
        "df.to_csv('posts_data.csv', index=False)"
      ],
      "metadata": {
        "id": "kuYjMv4mQ05w"
      },
      "execution_count": 9,
      "outputs": []
    },
    {
      "cell_type": "markdown",
      "source": [
        "# Создание базы данных SQLite"
      ],
      "metadata": {
        "id": "1hBs_0PgFfcO"
      }
    },
    {
      "cell_type": "code",
      "source": [
        "# Создание подключения к SQLite базе данных\n",
        "conn = sqlite3.connect('posts.db')\n",
        "\n",
        "# Запись данных в SQLite\n",
        "df.to_sql('posts', conn, if_exists='replace', index=False)\n",
        "\n",
        "# Закрытие соединения\n",
        "conn.close()"
      ],
      "metadata": {
        "id": "h9t94P-JR5lA"
      },
      "execution_count": 10,
      "outputs": []
    },
    {
      "cell_type": "markdown",
      "source": [
        "# SQL запрос для анализа влияния"
      ],
      "metadata": {
        "id": "fM_RznGMFmay"
      }
    },
    {
      "cell_type": "code",
      "source": [
        "# Подключение к базе данных\n",
        "conn = sqlite3.connect('posts.db')\n",
        "cursor = conn.cursor()\n",
        "\n",
        "# SQL-запрос\n",
        "query = \"\"\"\n",
        "WITH PostDifferences AS (\n",
        "    -- Выбираем необходимые поля и вычисляем разницу в днях между текущей и предыдущей датой поста\n",
        "    SELECT\n",
        "        id_post,\n",
        "        date_time,\n",
        "        likes,\n",
        "        times_of_day,\n",
        "        day_of_the_week,\n",
        "        JULIANDAY(date_time) - LAG(JULIANDAY(date_time)) OVER (ORDER BY date_time) AS gap_days\n",
        "    FROM\n",
        "        posts\n",
        ")\n",
        "\n",
        "-- Основной запрос для агрегирования данных по времени суток и дню недели\n",
        "SELECT\n",
        "    times_of_day,            -- Время суток\n",
        "    day_of_the_week,        -- День недели\n",
        "    AVG(likes) AS avg_likes, -- Среднее количество лайков\n",
        "    AVG(gap_days) AS avg_gap_days -- Средний промежуток между постами в днях\n",
        "FROM\n",
        "    PostDifferences\n",
        "GROUP BY\n",
        "    times_of_day,           -- Группируем по времени суток\n",
        "    day_of_the_week         -- Группируем по дню недели\n",
        "ORDER BY\n",
        "    avg_likes DESC;         -- Сортируем по среднему количеству лайков в порядке убывания\n",
        "\"\"\"\n",
        "\n",
        "# Выполнение запроса и получение результата\n",
        "cursor.execute(query)\n",
        "rows = cursor.fetchall()\n",
        "\n",
        "# Закрытие соединения\n",
        "cursor.close()\n",
        "conn.close()\n",
        "\n",
        "# Вывод результата\n",
        "with pd.option_context('display.max_rows', None, 'display.max_columns', None):\n",
        "    print(pd.DataFrame(rows, columns=('Идентификатор поста', 'Время и дата поста', 'Количество лайков', 'Промежуток в днях')))"
      ],
      "metadata": {
        "colab": {
          "base_uri": "https://localhost:8080/"
        },
        "id": "LfzjSF0nkhyB",
        "outputId": "99b3c130-4590-4db7-9bdf-0a7f59070f1f"
      },
      "execution_count": 11,
      "outputs": [
        {
          "output_type": "stream",
          "name": "stdout",
          "text": [
            "   Идентификатор поста Время и дата поста  Количество лайков  \\\n",
            "0            afternoon             Sunday         107.500000   \n",
            "1              morning             Sunday          61.750000   \n",
            "2            afternoon            Tuesday          57.750000   \n",
            "3            afternoon           Thursday          57.666667   \n",
            "4            afternoon           Saturday          55.833333   \n",
            "5              morning           Saturday          53.000000   \n",
            "6            afternoon             Monday          49.500000   \n",
            "7              morning           Thursday          49.000000   \n",
            "8                night             Friday          49.000000   \n",
            "9                night          Wednesday          47.800000   \n",
            "10             morning            Tuesday          46.166667   \n",
            "11             morning             Friday          46.000000   \n",
            "12             morning          Wednesday          44.857143   \n",
            "13           afternoon             Friday          38.125000   \n",
            "14               night           Saturday          36.500000   \n",
            "15               night            Tuesday          34.500000   \n",
            "16               night           Thursday          32.000000   \n",
            "17           afternoon          Wednesday          28.666667   \n",
            "18               night             Sunday          28.000000   \n",
            "19             morning             Monday          25.333333   \n",
            "20               night             Monday          25.000000   \n",
            "\n",
            "    Промежуток в днях  \n",
            "0            3.870165  \n",
            "1            3.298547  \n",
            "2            6.479811  \n",
            "3            6.189576  \n",
            "4            6.363401  \n",
            "5            4.020153  \n",
            "6            3.209062  \n",
            "7            3.855210  \n",
            "8            3.277648  \n",
            "9            2.317734  \n",
            "10           2.928185  \n",
            "11           6.632231  \n",
            "12           2.917330  \n",
            "13           4.419284  \n",
            "14           3.447483  \n",
            "15           3.296982  \n",
            "16           3.976542  \n",
            "17           1.813904  \n",
            "18           3.449242  \n",
            "19           3.537813  \n",
            "20           3.948322  \n"
          ]
        }
      ]
    },
    {
      "cell_type": "markdown",
      "source": [
        "**Вывод**: Время суток с максимальным количеством лайков – это утро и вечер. Воскресенье и суббота приносят больше лайков. Есть заметные различия в среднем промежутке между постами, однако его влияние на количество лайков не столь очевидно.Главным фактором для повышения количества лайков можно считать время суток, особенно утренние и вечерние часы. День недели также играет важную роль, особенно в выходные. Промежутки между постами менее значительно влияют на лайки, хотя их оптимизация также может иметь значение."
      ],
      "metadata": {
        "id": "GROEV7Lfkjvd"
      }
    }
  ]
}