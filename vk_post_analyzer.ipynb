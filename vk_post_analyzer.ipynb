{
  "nbformat": 4,
  "nbformat_minor": 0,
  "metadata": {
    "colab": {
      "provenance": []
    },
    "kernelspec": {
      "name": "python3",
      "display_name": "Python 3"
    },
    "language_info": {
      "name": "python"
    }
  },
  "cells": [
    {
      "cell_type": "markdown",
      "source": [
        "# Сбор данных со страницы VK с помощью API"
      ],
      "metadata": {
        "id": "uIAGLmg9D0Tq"
      }
    },
    {
      "cell_type": "code",
      "source": [
        "myid = 'ID_USER'\n",
        "\n",
        "version = '5.199'\n",
        "\n",
        "with open('token.txt') as f:\n",
        "    token = f.read()"
      ],
      "metadata": {
        "id": "HjijwqxK86Zo"
      },
      "execution_count": null,
      "outputs": []
    },
    {
      "cell_type": "code",
      "execution_count": null,
      "metadata": {
        "id": "PJV4C4q_midZ"
      },
      "outputs": [],
      "source": [
        "import datetime\n",
        "import sqlite3\n",
        "import requests\n",
        "import pandas as pd"
      ]
    },
    {
      "cell_type": "code",
      "source": [
        "method = 'users.get'\n",
        "parameters = f'user_ids={myid}'\n",
        "\n",
        "url = f'https://api.vk.com/method/{method}?{parameters}&v={version}&access_token={token}'\n",
        "url"
      ],
      "metadata": {
        "colab": {
          "base_uri": "https://localhost:8080/",
          "height": 36
        },
        "id": "HgwzzWBs9Bop",
        "outputId": "d89dea7c-c31c-4289-ba1c-52eee7530896"
      },
      "execution_count": null,
      "outputs": [
        {
          "output_type": "execute_result",
          "data": {
            "text/plain": [
              "'https://api.vk.com/method/users.get?user_ids=227679339&v=5.199&access_token=12a25be512a25be512a25be5c611bce781112a212a25be5744f9c8ca3fc4bfe626cfa04'"
            ],
            "application/vnd.google.colaboratory.intrinsic+json": {
              "type": "string"
            }
          },
          "metadata": {},
          "execution_count": 4
        }
      ]
    },
    {
      "cell_type": "code",
      "source": [
        "response = requests.get(url)\n",
        "response.json()"
      ],
      "metadata": {
        "colab": {
          "base_uri": "https://localhost:8080/"
        },
        "id": "vV-UqSWt9E-o",
        "outputId": "cb7ad695-509b-4b26-e4de-1c103056b273"
      },
      "execution_count": null,
      "outputs": [
        {
          "output_type": "execute_result",
          "data": {
            "text/plain": [
              "{'response': [{'id': 227679339,\n",
              "   'first_name': 'Karim',\n",
              "   'last_name': 'Muratov',\n",
              "   'can_access_closed': True,\n",
              "   'is_closed': False}]}"
            ]
          },
          "metadata": {},
          "execution_count": 5
        }
      ]
    },
    {
      "cell_type": "code",
      "source": [
        "method = 'wall.get'\n",
        "parameters = f'owner_id={myid}'\n",
        "count = 100\n",
        "\n",
        "url = f'https://api.vk.com/method/{method}?{parameters}&v={version}&count={count}&access_token={token}'\n",
        "url"
      ],
      "metadata": {
        "colab": {
          "base_uri": "https://localhost:8080/",
          "height": 36
        },
        "id": "IHntMvQ8IY9c",
        "outputId": "3befa3c3-3ef9-4e6b-a7fe-e6384403e8fa"
      },
      "execution_count": null,
      "outputs": [
        {
          "output_type": "execute_result",
          "data": {
            "text/plain": [
              "'https://api.vk.com/method/wall.get?owner_id=227679339&v=5.199&count=100&access_token=12a25be512a25be512a25be5c611bce781112a212a25be5744f9c8ca3fc4bfe626cfa04'"
            ],
            "application/vnd.google.colaboratory.intrinsic+json": {
              "type": "string"
            }
          },
          "metadata": {},
          "execution_count": 6
        }
      ]
    },
    {
      "cell_type": "code",
      "source": [
        "response = requests.get(url)\n",
        "\n",
        "data = []\n",
        "for item in response.json()['response']['items']:\n",
        "    post_id = item['id']\n",
        "    post_time = datetime.datetime.fromtimestamp(item['date'])\n",
        "    likes = item['likes']['count']\n",
        "\n",
        "    # Определяем время суток\n",
        "    if 6 <= post_time.hour < 12:\n",
        "        time_of_day = 'morning'\n",
        "    elif 12 <= post_time.hour < 18:\n",
        "        time_of_day = 'afternoon'\n",
        "    elif 18 <= post_time.hour < 24:\n",
        "        time_of_day = 'evening'\n",
        "    else:\n",
        "        time_of_day = 'night'\n",
        "\n",
        "    # Определяем день недели\n",
        "    day_of_week = post_time.strftime('%a')  # получаем сокращённое название дня\n",
        "    day_of_week = {'Mon': 'Monday', 'Tue': 'Tuesday', 'Wed': 'Wednesday', 'Thu': 'Thursday', 'Fri': 'Friday', 'Sat': 'Saturday', 'Sun': 'Sunday'}[day_of_week]\n",
        "\n",
        "    data.append({\n",
        "        'id_post': post_id,\n",
        "        'date_time': post_time,\n",
        "        'likes': likes,\n",
        "        'times_of_day': time_of_day,\n",
        "        'day_of_the_week': day_of_week\n",
        "    })\n",
        "\n",
        "# Создаём DataFrame\n",
        "df = pd.DataFrame(data)\n",
        "\n",
        "# Печатаем DataFrame\n",
        "print(df)"
      ],
      "metadata": {
        "colab": {
          "base_uri": "https://localhost:8080/"
        },
        "id": "08Sk_lk5eMC5",
        "outputId": "ca4c6ec5-2735-450b-b7b7-0eddf0bb2b5c"
      },
      "execution_count": null,
      "outputs": [
        {
          "output_type": "stream",
          "name": "stdout",
          "text": [
            "    id_post           date_time  likes times_of_day day_of_the_week\n",
            "0      3024 2023-12-08 11:12:46     72      morning          Friday\n",
            "1      3480 2024-09-22 11:09:35     33      morning          Sunday\n",
            "2      3479 2024-09-21 16:18:47     24    afternoon        Saturday\n",
            "3      3476 2024-09-18 02:40:28     69        night       Wednesday\n",
            "4      3474 2024-09-17 02:26:14     30        night         Tuesday\n",
            "..      ...                 ...    ...          ...             ...\n",
            "95     2858 2023-07-08 07:20:42     24      morning        Saturday\n",
            "96     2852 2023-06-26 09:40:19     51      morning          Monday\n",
            "97     2840 2023-06-25 05:03:27     96        night          Sunday\n",
            "98     2839 2023-06-22 05:17:34      5        night        Thursday\n",
            "99     2831 2023-06-13 09:15:42     63      morning         Tuesday\n",
            "\n",
            "[100 rows x 5 columns]\n"
          ]
        }
      ]
    },
    {
      "cell_type": "markdown",
      "source": [
        "# Сохранение данных в csv файл"
      ],
      "metadata": {
        "id": "a-ZFyM5YFa5x"
      }
    },
    {
      "cell_type": "code",
      "source": [
        "# Сохраняем в CSV файл\n",
        "df.to_csv('posts_data.csv', index=False)"
      ],
      "metadata": {
        "id": "kuYjMv4mQ05w"
      },
      "execution_count": null,
      "outputs": []
    },
    {
      "cell_type": "markdown",
      "source": [
        "# Создание базы данных SQLite"
      ],
      "metadata": {
        "id": "1hBs_0PgFfcO"
      }
    },
    {
      "cell_type": "code",
      "source": [
        "# Создание подключения к SQLite базе данных\n",
        "conn = sqlite3.connect('posts.db')\n",
        "\n",
        "# Запись данных в SQLite\n",
        "df.to_sql('posts', conn, if_exists='replace', index=False)\n",
        "\n",
        "# Закрытие соединения\n",
        "conn.close()"
      ],
      "metadata": {
        "id": "h9t94P-JR5lA"
      },
      "execution_count": null,
      "outputs": []
    },
    {
      "cell_type": "markdown",
      "source": [
        "# SQL запрос для анализа влияния"
      ],
      "metadata": {
        "id": "fM_RznGMFmay"
      }
    },
    {
      "cell_type": "code",
      "source": [
        "# Подключение к базе данных\n",
        "conn = sqlite3.connect('posts.db')\n",
        "cursor = conn.cursor()\n",
        "\n",
        "# SQL-запрос\n",
        "query = \"\"\"\n",
        "WITH PostDifferences AS (\n",
        "    -- Выбираем необходимые поля и вычисляем разницу в днях между текущей и предыдущей датой поста\n",
        "    SELECT\n",
        "        id_post,\n",
        "        date_time,\n",
        "        likes,\n",
        "        times_of_day,\n",
        "        day_of_the_week,\n",
        "        JULIANDAY(date_time) - LAG(JULIANDAY(date_time)) OVER (ORDER BY date_time) AS gap_days\n",
        "    FROM\n",
        "        posts\n",
        ")\n",
        "\n",
        "-- Основной запрос для агрегирования данных по времени суток и дню недели\n",
        "SELECT\n",
        "    times_of_day,            -- Время суток\n",
        "    day_of_the_week,        -- День недели\n",
        "    AVG(likes) AS avg_likes, -- Среднее количество лайков\n",
        "    AVG(gap_days) AS avg_gap_days -- Средний промежуток между постами в днях\n",
        "FROM\n",
        "    PostDifferences\n",
        "GROUP BY\n",
        "    times_of_day,           -- Группируем по времени суток\n",
        "    day_of_the_week         -- Группируем по дню недели\n",
        "ORDER BY\n",
        "    avg_likes DESC;         -- Сортируем по среднему количеству лайков в порядке убывания\n",
        "\"\"\"\n",
        "\n",
        "# Выполнение запроса и получение результата\n",
        "cursor.execute(query)\n",
        "rows = cursor.fetchall()\n",
        "\n",
        "# Закрытие соединения\n",
        "cursor.close()\n",
        "conn.close()\n",
        "\n",
        "# Вывод результата\n",
        "with pd.option_context('display.max_rows', None, 'display.max_columns', None):\n",
        "    print(pd.DataFrame(rows, columns=('Идентификатор поста', 'Время и дата поста', 'Количество лайков', 'Промежуток в днях')))"
      ],
      "metadata": {
        "colab": {
          "base_uri": "https://localhost:8080/"
        },
        "id": "LfzjSF0nkhyB",
        "outputId": "39fbb2d4-8d1b-4727-ba71-014fbc631c15"
      },
      "execution_count": null,
      "outputs": [
        {
          "output_type": "stream",
          "name": "stdout",
          "text": [
            "   Идентификатор поста Время и дата поста  Количество лайков  \\\n",
            "0            afternoon             Sunday         141.333333   \n",
            "1              morning             Sunday          62.571429   \n",
            "2            afternoon           Saturday          61.000000   \n",
            "3            afternoon            Tuesday          57.750000   \n",
            "4            afternoon           Thursday          57.666667   \n",
            "5            afternoon             Monday          54.000000   \n",
            "6                night             Friday          54.000000   \n",
            "7              morning             Monday          52.800000   \n",
            "8              morning           Thursday          50.666667   \n",
            "9              morning           Saturday          49.000000   \n",
            "10               night            Tuesday          47.750000   \n",
            "11               night          Wednesday          46.750000   \n",
            "12             morning             Friday          45.800000   \n",
            "13             morning            Tuesday          45.000000   \n",
            "14             morning          Wednesday          42.833333   \n",
            "15               night             Sunday          42.500000   \n",
            "16           afternoon             Friday          36.714286   \n",
            "17               night           Saturday          36.250000   \n",
            "18           afternoon          Wednesday          28.666667   \n",
            "19               night           Thursday          26.600000   \n",
            "20               night             Monday          25.000000   \n",
            "\n",
            "    Промежуток в днях  \n",
            "0            4.844992  \n",
            "1            3.491739  \n",
            "2            7.344500  \n",
            "3           10.195208  \n",
            "4            6.189576  \n",
            "5            5.045501  \n",
            "6            4.131335  \n",
            "7            5.147542  \n",
            "8            4.284259  \n",
            "9            4.896030  \n",
            "10           6.564369  \n",
            "11           2.634216  \n",
            "12           6.632231  \n",
            "13           2.947826  \n",
            "14           2.918239  \n",
            "15           3.676050  \n",
            "16           4.745951  \n",
            "17           3.447483  \n",
            "18           1.813904  \n",
            "19           4.948160  \n",
            "20           3.948322  \n"
          ]
        }
      ]
    },
    {
      "cell_type": "markdown",
      "source": [
        "# **Вывод**: Время суток с максимальным количеством лайков – это утро и вечер. Воскресенье и суббота приносят больше лайков. Есть заметные различия в среднем промежутке между постами, однако его влияние на количество лайков не столь очевидно.Главным фактором для повышения количества лайков можно считать время суток, особенно утренние и вечерние часы. День недели также играет важную роль, особенно в выходные. Промежутки между постами менее значительно влияют на лайки, хотя их оптимизация также может иметь значение."
      ],
      "metadata": {
        "id": "GROEV7Lfkjvd"
      }
    }
  ]
}
